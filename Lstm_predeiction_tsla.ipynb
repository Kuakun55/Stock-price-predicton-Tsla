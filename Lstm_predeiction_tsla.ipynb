{
  "nbformat": 4,
  "nbformat_minor": 0,
  "metadata": {
    "colab": {
      "provenance": [],
      "authorship_tag": "ABX9TyPkWm3yPmJUeymX7MCNRkvK",
      "include_colab_link": true
    },
    "kernelspec": {
      "name": "python3",
      "display_name": "Python 3"
    },
    "language_info": {
      "name": "python"
    },
    "gpuClass": "standard"
  },
  "cells": [
    {
      "cell_type": "markdown",
      "metadata": {
        "id": "view-in-github",
        "colab_type": "text"
      },
      "source": [
        "<a href=\"https://colab.research.google.com/github/Kuakun55/Stock-price-predicton-Tsla/blob/main/Lstm_predeiction_tsla.ipynb\" target=\"_parent\"><img src=\"https://colab.research.google.com/assets/colab-badge.svg\" alt=\"Open In Colab\"/></a>"
      ]
    },
    {
      "cell_type": "code",
      "source": [
        "import numpy as np\n",
        "import pandas as pd\n",
        "pd.set_option(\"display.max_columns\", None)\n",
        "pd.set_option(\"display.width\", 500)\n",
        "import matplotlib.pyplot as plt\n",
        "import tensorflow as tf\n",
        "import datetime as dt\n",
        "from sklearn.preprocessing import MinMaxScaler\n",
        "from sklearn.metrics import mean_squared_error\n",
        "from tensorflow.keras.models import Sequential\n",
        "from tensorflow.keras.layers import Dense, LSTM, Dropout\n",
        "from tensorflow.keras.callbacks import ModelCheckpoint, EarlyStopping\n",
        "import warnings\n",
        "warnings.filterwarnings(\"ignore\")\n",
        "import os\n",
        "os.environ[\"TF_CPP_MIN_LOG_LEVEL\"] = \"3\"\n",
        "tf.compat.v1.logging.set_verbosity(tf.compat.v1.logging.ERROR)"
      ],
      "metadata": {
        "id": "jhgGhIyUL0Ys"
      },
      "execution_count": 20,
      "outputs": []
    },
    {
      "cell_type": "code",
      "source": [
        "df = pd.read_csv(\"/content/TSLA.csv\")\n",
        "df.head()"
      ],
      "metadata": {
        "colab": {
          "base_uri": "https://localhost:8080/",
          "height": 206
        },
        "id": "_9NSzPHAL4oT",
        "outputId": "a37dbd3d-8dc5-4157-8010-e6f803322578"
      },
      "execution_count": 22,
      "outputs": [
        {
          "output_type": "execute_result",
          "data": {
            "text/plain": [
              "         Date      Open      High       Low     Close  Adj Close     Volume\n",
              "0  2010-06-29  1.266667  1.666667  1.169333  1.592667   1.592667  281494500\n",
              "1  2010-06-30  1.719333  2.028000  1.553333  1.588667   1.588667  257806500\n",
              "2  2010-07-01  1.666667  1.728000  1.351333  1.464000   1.464000  123282000\n",
              "3  2010-07-02  1.533333  1.540000  1.247333  1.280000   1.280000   77097000\n",
              "4  2010-07-06  1.333333  1.333333  1.055333  1.074000   1.074000  103003500"
            ],
            "text/html": [
              "\n",
              "  <div id=\"df-8cb18a88-d72e-401d-a6e9-0b5d18554ad1\">\n",
              "    <div class=\"colab-df-container\">\n",
              "      <div>\n",
              "<style scoped>\n",
              "    .dataframe tbody tr th:only-of-type {\n",
              "        vertical-align: middle;\n",
              "    }\n",
              "\n",
              "    .dataframe tbody tr th {\n",
              "        vertical-align: top;\n",
              "    }\n",
              "\n",
              "    .dataframe thead th {\n",
              "        text-align: right;\n",
              "    }\n",
              "</style>\n",
              "<table border=\"1\" class=\"dataframe\">\n",
              "  <thead>\n",
              "    <tr style=\"text-align: right;\">\n",
              "      <th></th>\n",
              "      <th>Date</th>\n",
              "      <th>Open</th>\n",
              "      <th>High</th>\n",
              "      <th>Low</th>\n",
              "      <th>Close</th>\n",
              "      <th>Adj Close</th>\n",
              "      <th>Volume</th>\n",
              "    </tr>\n",
              "  </thead>\n",
              "  <tbody>\n",
              "    <tr>\n",
              "      <th>0</th>\n",
              "      <td>2010-06-29</td>\n",
              "      <td>1.266667</td>\n",
              "      <td>1.666667</td>\n",
              "      <td>1.169333</td>\n",
              "      <td>1.592667</td>\n",
              "      <td>1.592667</td>\n",
              "      <td>281494500</td>\n",
              "    </tr>\n",
              "    <tr>\n",
              "      <th>1</th>\n",
              "      <td>2010-06-30</td>\n",
              "      <td>1.719333</td>\n",
              "      <td>2.028000</td>\n",
              "      <td>1.553333</td>\n",
              "      <td>1.588667</td>\n",
              "      <td>1.588667</td>\n",
              "      <td>257806500</td>\n",
              "    </tr>\n",
              "    <tr>\n",
              "      <th>2</th>\n",
              "      <td>2010-07-01</td>\n",
              "      <td>1.666667</td>\n",
              "      <td>1.728000</td>\n",
              "      <td>1.351333</td>\n",
              "      <td>1.464000</td>\n",
              "      <td>1.464000</td>\n",
              "      <td>123282000</td>\n",
              "    </tr>\n",
              "    <tr>\n",
              "      <th>3</th>\n",
              "      <td>2010-07-02</td>\n",
              "      <td>1.533333</td>\n",
              "      <td>1.540000</td>\n",
              "      <td>1.247333</td>\n",
              "      <td>1.280000</td>\n",
              "      <td>1.280000</td>\n",
              "      <td>77097000</td>\n",
              "    </tr>\n",
              "    <tr>\n",
              "      <th>4</th>\n",
              "      <td>2010-07-06</td>\n",
              "      <td>1.333333</td>\n",
              "      <td>1.333333</td>\n",
              "      <td>1.055333</td>\n",
              "      <td>1.074000</td>\n",
              "      <td>1.074000</td>\n",
              "      <td>103003500</td>\n",
              "    </tr>\n",
              "  </tbody>\n",
              "</table>\n",
              "</div>\n",
              "      <button class=\"colab-df-convert\" onclick=\"convertToInteractive('df-8cb18a88-d72e-401d-a6e9-0b5d18554ad1')\"\n",
              "              title=\"Convert this dataframe to an interactive table.\"\n",
              "              style=\"display:none;\">\n",
              "        \n",
              "  <svg xmlns=\"http://www.w3.org/2000/svg\" height=\"24px\"viewBox=\"0 0 24 24\"\n",
              "       width=\"24px\">\n",
              "    <path d=\"M0 0h24v24H0V0z\" fill=\"none\"/>\n",
              "    <path d=\"M18.56 5.44l.94 2.06.94-2.06 2.06-.94-2.06-.94-.94-2.06-.94 2.06-2.06.94zm-11 1L8.5 8.5l.94-2.06 2.06-.94-2.06-.94L8.5 2.5l-.94 2.06-2.06.94zm10 10l.94 2.06.94-2.06 2.06-.94-2.06-.94-.94-2.06-.94 2.06-2.06.94z\"/><path d=\"M17.41 7.96l-1.37-1.37c-.4-.4-.92-.59-1.43-.59-.52 0-1.04.2-1.43.59L10.3 9.45l-7.72 7.72c-.78.78-.78 2.05 0 2.83L4 21.41c.39.39.9.59 1.41.59.51 0 1.02-.2 1.41-.59l7.78-7.78 2.81-2.81c.8-.78.8-2.07 0-2.86zM5.41 20L4 18.59l7.72-7.72 1.47 1.35L5.41 20z\"/>\n",
              "  </svg>\n",
              "      </button>\n",
              "      \n",
              "  <style>\n",
              "    .colab-df-container {\n",
              "      display:flex;\n",
              "      flex-wrap:wrap;\n",
              "      gap: 12px;\n",
              "    }\n",
              "\n",
              "    .colab-df-convert {\n",
              "      background-color: #E8F0FE;\n",
              "      border: none;\n",
              "      border-radius: 50%;\n",
              "      cursor: pointer;\n",
              "      display: none;\n",
              "      fill: #1967D2;\n",
              "      height: 32px;\n",
              "      padding: 0 0 0 0;\n",
              "      width: 32px;\n",
              "    }\n",
              "\n",
              "    .colab-df-convert:hover {\n",
              "      background-color: #E2EBFA;\n",
              "      box-shadow: 0px 1px 2px rgba(60, 64, 67, 0.3), 0px 1px 3px 1px rgba(60, 64, 67, 0.15);\n",
              "      fill: #174EA6;\n",
              "    }\n",
              "\n",
              "    [theme=dark] .colab-df-convert {\n",
              "      background-color: #3B4455;\n",
              "      fill: #D2E3FC;\n",
              "    }\n",
              "\n",
              "    [theme=dark] .colab-df-convert:hover {\n",
              "      background-color: #434B5C;\n",
              "      box-shadow: 0px 1px 3px 1px rgba(0, 0, 0, 0.15);\n",
              "      filter: drop-shadow(0px 1px 2px rgba(0, 0, 0, 0.3));\n",
              "      fill: #FFFFFF;\n",
              "    }\n",
              "  </style>\n",
              "\n",
              "      <script>\n",
              "        const buttonEl =\n",
              "          document.querySelector('#df-8cb18a88-d72e-401d-a6e9-0b5d18554ad1 button.colab-df-convert');\n",
              "        buttonEl.style.display =\n",
              "          google.colab.kernel.accessAllowed ? 'block' : 'none';\n",
              "\n",
              "        async function convertToInteractive(key) {\n",
              "          const element = document.querySelector('#df-8cb18a88-d72e-401d-a6e9-0b5d18554ad1');\n",
              "          const dataTable =\n",
              "            await google.colab.kernel.invokeFunction('convertToInteractive',\n",
              "                                                     [key], {});\n",
              "          if (!dataTable) return;\n",
              "\n",
              "          const docLinkHtml = 'Like what you see? Visit the ' +\n",
              "            '<a target=\"_blank\" href=https://colab.research.google.com/notebooks/data_table.ipynb>data table notebook</a>'\n",
              "            + ' to learn more about interactive tables.';\n",
              "          element.innerHTML = '';\n",
              "          dataTable['output_type'] = 'display_data';\n",
              "          await google.colab.output.renderOutput(dataTable, element);\n",
              "          const docLink = document.createElement('div');\n",
              "          docLink.innerHTML = docLinkHtml;\n",
              "          element.appendChild(docLink);\n",
              "        }\n",
              "      </script>\n",
              "    </div>\n",
              "  </div>\n",
              "  "
            ]
          },
          "metadata": {},
          "execution_count": 22
        }
      ]
    },
    {
      "cell_type": "code",
      "source": [
        "def check_df(dataframe,head=5):\n",
        "  print(\" -----------------Head----------------------- \")\n",
        "  print(dataframe.head(head))\n",
        "  print(\"-------------------- Tail----------------------- \")\n",
        "  print(dataframe.tail(head))\n",
        "  print(\"------------------ Shape---------------------- \")\n",
        "  print(dataframe.shape)\n",
        "  print(\" -----------------Types------------------------ \")\n",
        "  print(dataframe.dtypes)\n",
        "  print(\" -----------------NA----------------------------\")\n",
        "  print(dataframe.isnull().sum())\n",
        "  print(\" -----------------Qurtiles---------------------- \")\n",
        "  print(dataframe.describe([0, 0.05, 0.50, 0.95, 0.99, 1]).T)"
      ],
      "metadata": {
        "id": "ddFDac1GL-QN"
      },
      "execution_count": 23,
      "outputs": []
    },
    {
      "cell_type": "code",
      "source": [
        "check_df(df)"
      ],
      "metadata": {
        "colab": {
          "base_uri": "https://localhost:8080/"
        },
        "id": "3XC2GSbCMDA2",
        "outputId": "36ae2462-eaa7-4852-c1a2-4c75b6ebd3d6"
      },
      "execution_count": 24,
      "outputs": [
        {
          "output_type": "stream",
          "name": "stdout",
          "text": [
            " -----------------Head----------------------- \n",
            "         Date      Open      High       Low     Close  Adj Close     Volume\n",
            "0  2010-06-29  1.266667  1.666667  1.169333  1.592667   1.592667  281494500\n",
            "1  2010-06-30  1.719333  2.028000  1.553333  1.588667   1.588667  257806500\n",
            "2  2010-07-01  1.666667  1.728000  1.351333  1.464000   1.464000  123282000\n",
            "3  2010-07-02  1.533333  1.540000  1.247333  1.280000   1.280000   77097000\n",
            "4  2010-07-06  1.333333  1.333333  1.055333  1.074000   1.074000  103003500\n",
            "-------------------- Tail----------------------- \n",
            "            Date        Open        High         Low       Close   Adj Close     Volume\n",
            "3187  2023-02-27  202.029999  209.419998  201.259995  207.630005  207.630005  161028300\n",
            "3188  2023-02-28  210.589996  211.229996  203.750000  205.710007  205.710007  153144900\n",
            "3189  2023-03-01  206.210007  207.199997  198.520004  202.770004  202.770004  156852800\n",
            "3190  2023-03-02  186.740005  193.750000  186.009995  190.899994  190.899994  181500700\n",
            "3191  2023-03-03  194.800003  200.479996  192.880005  197.789993  197.789993  153800400\n",
            "------------------ Shape---------------------- \n",
            "(3192, 7)\n",
            " -----------------Types------------------------ \n",
            "Date          object\n",
            "Open         float64\n",
            "High         float64\n",
            "Low          float64\n",
            "Close        float64\n",
            "Adj Close    float64\n",
            "Volume         int64\n",
            "dtype: object\n",
            " -----------------NA----------------------------\n",
            "Date         0\n",
            "Open         0\n",
            "High         0\n",
            "Low          0\n",
            "Close        0\n",
            "Adj Close    0\n",
            "Volume       0\n",
            "dtype: int64\n",
            " -----------------Qurtiles---------------------- \n",
            "            count          mean           std           min            0%            5%           50%           95%           99%          100%           max\n",
            "Open       3192.0  6.027891e+01  9.590748e+01  1.076000e+00  1.076000e+00  1.648433e+00  1.638233e+01  2.853333e+02  3.601239e+02  4.114700e+02  4.114700e+02\n",
            "High       3192.0  6.164892e+01  9.813169e+01  1.108667e+00  1.108667e+00  1.682133e+00  1.657800e+01  2.923362e+02  3.677391e+02  4.144967e+02  4.144967e+02\n",
            "Low        3192.0  5.878404e+01  9.341880e+01  9.986670e-01  9.986670e-01  1.587100e+00  1.613000e+01  2.795938e+02  3.515327e+02  4.056667e+02  4.056667e+02\n",
            "Close      3192.0  6.024897e+01  9.580238e+01  1.053333e+00  1.053333e+00  1.642733e+00  1.638300e+01  2.866465e+02  3.590301e+02  4.099700e+02  4.099700e+02\n",
            "Adj Close  3192.0  6.024897e+01  9.580238e+01  1.053333e+00  1.053333e+00  1.642733e+00  1.638300e+01  2.866465e+02  3.590301e+02  4.099700e+02  4.099700e+02\n",
            "Volume     3192.0  9.487470e+07  8.199168e+07  1.777500e+06  1.777500e+06  1.020855e+07  7.655100e+07  2.577793e+08  3.870908e+08  9.140820e+08  9.140820e+08\n"
          ]
        }
      ]
    },
    {
      "cell_type": "code",
      "source": [
        "df[\"Date\"] = pd.to_datetime(df[\"Date\"])\n",
        "tesla_df = df[[\"Date\", \"Close\"]]\n",
        "tesla_df.index = tesla_df[\"Date\"]\n",
        "tesla_df.drop(\"Date\", axis=1, inplace=True)\n",
        "tesla_df.head()"
      ],
      "metadata": {
        "colab": {
          "base_uri": "https://localhost:8080/",
          "height": 237
        },
        "id": "PMuqRJcmMEiO",
        "outputId": "0c2fb326-7b91-499c-98d9-db61632627af"
      },
      "execution_count": 25,
      "outputs": [
        {
          "output_type": "execute_result",
          "data": {
            "text/plain": [
              "               Close\n",
              "Date                \n",
              "2010-06-29  1.592667\n",
              "2010-06-30  1.588667\n",
              "2010-07-01  1.464000\n",
              "2010-07-02  1.280000\n",
              "2010-07-06  1.074000"
            ],
            "text/html": [
              "\n",
              "  <div id=\"df-dbec5bdb-b7af-405a-b986-fe79d7e28a08\">\n",
              "    <div class=\"colab-df-container\">\n",
              "      <div>\n",
              "<style scoped>\n",
              "    .dataframe tbody tr th:only-of-type {\n",
              "        vertical-align: middle;\n",
              "    }\n",
              "\n",
              "    .dataframe tbody tr th {\n",
              "        vertical-align: top;\n",
              "    }\n",
              "\n",
              "    .dataframe thead th {\n",
              "        text-align: right;\n",
              "    }\n",
              "</style>\n",
              "<table border=\"1\" class=\"dataframe\">\n",
              "  <thead>\n",
              "    <tr style=\"text-align: right;\">\n",
              "      <th></th>\n",
              "      <th>Close</th>\n",
              "    </tr>\n",
              "    <tr>\n",
              "      <th>Date</th>\n",
              "      <th></th>\n",
              "    </tr>\n",
              "  </thead>\n",
              "  <tbody>\n",
              "    <tr>\n",
              "      <th>2010-06-29</th>\n",
              "      <td>1.592667</td>\n",
              "    </tr>\n",
              "    <tr>\n",
              "      <th>2010-06-30</th>\n",
              "      <td>1.588667</td>\n",
              "    </tr>\n",
              "    <tr>\n",
              "      <th>2010-07-01</th>\n",
              "      <td>1.464000</td>\n",
              "    </tr>\n",
              "    <tr>\n",
              "      <th>2010-07-02</th>\n",
              "      <td>1.280000</td>\n",
              "    </tr>\n",
              "    <tr>\n",
              "      <th>2010-07-06</th>\n",
              "      <td>1.074000</td>\n",
              "    </tr>\n",
              "  </tbody>\n",
              "</table>\n",
              "</div>\n",
              "      <button class=\"colab-df-convert\" onclick=\"convertToInteractive('df-dbec5bdb-b7af-405a-b986-fe79d7e28a08')\"\n",
              "              title=\"Convert this dataframe to an interactive table.\"\n",
              "              style=\"display:none;\">\n",
              "        \n",
              "  <svg xmlns=\"http://www.w3.org/2000/svg\" height=\"24px\"viewBox=\"0 0 24 24\"\n",
              "       width=\"24px\">\n",
              "    <path d=\"M0 0h24v24H0V0z\" fill=\"none\"/>\n",
              "    <path d=\"M18.56 5.44l.94 2.06.94-2.06 2.06-.94-2.06-.94-.94-2.06-.94 2.06-2.06.94zm-11 1L8.5 8.5l.94-2.06 2.06-.94-2.06-.94L8.5 2.5l-.94 2.06-2.06.94zm10 10l.94 2.06.94-2.06 2.06-.94-2.06-.94-.94-2.06-.94 2.06-2.06.94z\"/><path d=\"M17.41 7.96l-1.37-1.37c-.4-.4-.92-.59-1.43-.59-.52 0-1.04.2-1.43.59L10.3 9.45l-7.72 7.72c-.78.78-.78 2.05 0 2.83L4 21.41c.39.39.9.59 1.41.59.51 0 1.02-.2 1.41-.59l7.78-7.78 2.81-2.81c.8-.78.8-2.07 0-2.86zM5.41 20L4 18.59l7.72-7.72 1.47 1.35L5.41 20z\"/>\n",
              "  </svg>\n",
              "      </button>\n",
              "      \n",
              "  <style>\n",
              "    .colab-df-container {\n",
              "      display:flex;\n",
              "      flex-wrap:wrap;\n",
              "      gap: 12px;\n",
              "    }\n",
              "\n",
              "    .colab-df-convert {\n",
              "      background-color: #E8F0FE;\n",
              "      border: none;\n",
              "      border-radius: 50%;\n",
              "      cursor: pointer;\n",
              "      display: none;\n",
              "      fill: #1967D2;\n",
              "      height: 32px;\n",
              "      padding: 0 0 0 0;\n",
              "      width: 32px;\n",
              "    }\n",
              "\n",
              "    .colab-df-convert:hover {\n",
              "      background-color: #E2EBFA;\n",
              "      box-shadow: 0px 1px 2px rgba(60, 64, 67, 0.3), 0px 1px 3px 1px rgba(60, 64, 67, 0.15);\n",
              "      fill: #174EA6;\n",
              "    }\n",
              "\n",
              "    [theme=dark] .colab-df-convert {\n",
              "      background-color: #3B4455;\n",
              "      fill: #D2E3FC;\n",
              "    }\n",
              "\n",
              "    [theme=dark] .colab-df-convert:hover {\n",
              "      background-color: #434B5C;\n",
              "      box-shadow: 0px 1px 3px 1px rgba(0, 0, 0, 0.15);\n",
              "      filter: drop-shadow(0px 1px 2px rgba(0, 0, 0, 0.3));\n",
              "      fill: #FFFFFF;\n",
              "    }\n",
              "  </style>\n",
              "\n",
              "      <script>\n",
              "        const buttonEl =\n",
              "          document.querySelector('#df-dbec5bdb-b7af-405a-b986-fe79d7e28a08 button.colab-df-convert');\n",
              "        buttonEl.style.display =\n",
              "          google.colab.kernel.accessAllowed ? 'block' : 'none';\n",
              "\n",
              "        async function convertToInteractive(key) {\n",
              "          const element = document.querySelector('#df-dbec5bdb-b7af-405a-b986-fe79d7e28a08');\n",
              "          const dataTable =\n",
              "            await google.colab.kernel.invokeFunction('convertToInteractive',\n",
              "                                                     [key], {});\n",
              "          if (!dataTable) return;\n",
              "\n",
              "          const docLinkHtml = 'Like what you see? Visit the ' +\n",
              "            '<a target=\"_blank\" href=https://colab.research.google.com/notebooks/data_table.ipynb>data table notebook</a>'\n",
              "            + ' to learn more about interactive tables.';\n",
              "          element.innerHTML = '';\n",
              "          dataTable['output_type'] = 'display_data';\n",
              "          await google.colab.output.renderOutput(dataTable, element);\n",
              "          const docLink = document.createElement('div');\n",
              "          docLink.innerHTML = docLinkHtml;\n",
              "          element.appendChild(docLink);\n",
              "        }\n",
              "      </script>\n",
              "    </div>\n",
              "  </div>\n",
              "  "
            ]
          },
          "metadata": {},
          "execution_count": 25
        }
      ]
    },
    {
      "cell_type": "code",
      "source": [
        "result_df = tesla_df.copy()\n",
        "tesla_df = tesla_df.values\n",
        "tesla_df = tesla_df.astype(\"float32\")\n",
        "tesla_df[0:5]"
      ],
      "metadata": {
        "colab": {
          "base_uri": "https://localhost:8080/"
        },
        "id": "khmAbmRFMHEb",
        "outputId": "536b8103-51a8-482b-d610-661c8ce500d8"
      },
      "execution_count": 26,
      "outputs": [
        {
          "output_type": "execute_result",
          "data": {
            "text/plain": [
              "array([[1.592667],\n",
              "       [1.588667],\n",
              "       [1.464   ],\n",
              "       [1.28    ],\n",
              "       [1.074   ]], dtype=float32)"
            ]
          },
          "metadata": {},
          "execution_count": 26
        }
      ]
    },
    {
      "cell_type": "code",
      "source": [
        "plt.figure(figsize=(12,6))\n",
        "plt.plot(result_df[\"Close\"], color=\"blue\")\n",
        "plt.ylabel(\"Stock Price\")\n",
        "plt.xlabel(\"Time\")\n",
        "plt.title(\"Tesla Stock Price\")\n",
        "plt.show()"
      ],
      "metadata": {
        "colab": {
          "base_uri": "https://localhost:8080/",
          "height": 404
        },
        "id": "1Kq0y24CMJZ4",
        "outputId": "1d8d8c70-fcfe-41b5-ac5a-b1b5ebf69984"
      },
      "execution_count": 27,
      "outputs": [
        {
          "output_type": "display_data",
          "data": {
            "text/plain": [
              "<Figure size 864x432 with 1 Axes>"
            ],
            "image/png": "[encoded data removed]"
          },
          "metadata": {
            "needs_background": "light"
          }
        }
      ]
    },
    {
      "cell_type": "code",
      "source": [
        "def split_data(dataframe, test_size):\n",
        "  position = int(round(len(dataframe) * (1-test_size)))\n",
        "  train = dataframe[:position]\n",
        "  test = dataframe[position:]\n",
        "  return train, test, position"
      ],
      "metadata": {
        "id": "YwYkJdcvMMLa"
      },
      "execution_count": 29,
      "outputs": []
    },
    {
      "cell_type": "code",
      "source": [
        "train, test, position = split_data(tesla_df, 0.20)\n",
        "print(\"Train shape:\", train.shape, \" Test shape:\", test.shape)"
      ],
      "metadata": {
        "colab": {
          "base_uri": "https://localhost:8080/"
        },
        "id": "sFoxl5NKMO68",
        "outputId": "653af5c4-bf1f-4131-aac9-1483202ae8f5"
      },
      "execution_count": 30,
      "outputs": [
        {
          "output_type": "stream",
          "name": "stdout",
          "text": [
            "Train shape: (2554, 1)  Test shape: (638, 1)\n"
          ]
        }
      ]
    },
    {
      "cell_type": "code",
      "source": [
        "def encoding_scaling(train, test):\n",
        "  scaler_train = MinMaxScaler(feature_range=(0,1))\n",
        "  train = scaler_train.fit_transform(train)\n",
        "  scaler_test = MinMaxScaler(feature_range=(0,1))\n",
        "  test = scaler_test.fit_transform(test)\n",
        "  return scaler_train, train, scaler_test, test"
      ],
      "metadata": {
        "id": "FEH0TXtNMRdn"
      },
      "execution_count": 31,
      "outputs": []
    },
    {
      "cell_type": "code",
      "source": [
        "scaler_train, train, scaler_test, test = encoding_scaling(train, test)"
      ],
      "metadata": {
        "id": "MwZp9xrHMTif"
      },
      "execution_count": 32,
      "outputs": []
    },
    {
      "cell_type": "code",
      "source": [
        "def create_features(data, lookback):\n",
        "  X, Y = [], []\n",
        "  for i in range(lookback, len(data)):\n",
        "    X.append(data[i-lookback:i,0])\n",
        "    Y.append(data[i,0])\n",
        "  return np.array(X), np.array(Y)"
      ],
      "metadata": {
        "id": "loO1sD41MVyx"
      },
      "execution_count": 33,
      "outputs": []
    },
    {
      "cell_type": "code",
      "source": [
        "lookback=20\n",
        "X_train, y_train = create_features(train, lookback)\n",
        "X_test, y_test = create_features(test, lookback)\n",
        "print(\"X_train shape:\", X_train.shape, \" y_train shape:\", y_train.shape, \"\\nX_test shape:\", X_test.shape, \" y_test shape: \", y_test.shape)"
      ],
      "metadata": {
        "colab": {
          "base_uri": "https://localhost:8080/"
        },
        "id": "DoIqyGweMYRP",
        "outputId": "d6d65a58-2a63-46ca-9e63-ad0b9259b9e1"
      },
      "execution_count": 34,
      "outputs": [
        {
          "output_type": "stream",
          "name": "stdout",
          "text": [
            "X_train shape: (2534, 20)  y_train shape: (2534,) \n",
            "X_test shape: (618, 20)  y_test shape:  (618,)\n"
          ]
        }
      ]
    },
    {
      "cell_type": "code",
      "source": [
        "X_train = np.reshape(X_train, (X_train.shape[0], 1, X_train.shape[1]))\n",
        "X_test = np.reshape(X_test, (X_test.shape[0], 1, X_test.shape[1]))\n",
        "y_train = y_train.reshape(-1,1)\n",
        "y_test = y_test.reshape(-1,1)\n",
        "print(\"X_train shape:\", X_train.shape, \" y_train shape:\", y_train.shape, \"\\nX_test shape:\", X_test.shape, \" y_test shape: \", y_test.shape)"
      ],
      "metadata": {
        "colab": {
          "base_uri": "https://localhost:8080/"
        },
        "id": "1BAxg6SXMcYu",
        "outputId": "ad2753ae-52b2-41ba-cf01-65277d3af016"
      },
      "execution_count": 35,
      "outputs": [
        {
          "output_type": "stream",
          "name": "stdout",
          "text": [
            "X_train shape: (2534, 1, 20)  y_train shape: (2534, 1) \n",
            "X_test shape: (618, 1, 20)  y_test shape:  (618, 1)\n"
          ]
        }
      ]
    },
    {
      "cell_type": "code",
      "source": [
        "def LSTM_create_and_fit_model(X_train,y_train, X_test, y_test, lookback=20, epochs=100, summary=True, fit=True):\n",
        "  model = Sequential()\n",
        "  model.add(LSTM(units=50, activation=\"relu\", input_shape=(X_train.shape[1], lookback)))\n",
        "  model.add(Dropout(0.2))\n",
        "  model.add(Dense(1))\n",
        "\n",
        "  model.compile(loss=\"mean_squared_error\", optimizer=\"adam\")\n",
        "  callbacks = [EarlyStopping(monitor=\"val_loss\", patience=3, verbose=1, mode=\"min\"), \n",
        "              ModelCheckpoint(filepath=\"mymodel.h5\", monitor=\"val_loss\", mode=\"min\", save_best_only=True, save_weights_only=False, verbose=1)]\n",
        "  \n",
        "  if summary:\n",
        "    model.summary()\n",
        "  \n",
        "  if fit:\n",
        "    history = model.fit(x=X_train, y=y_train, epochs=epochs, batch_size=20, \n",
        "                      validation_data=(X_test, y_test), callbacks=callbacks, shuffle=False)\n",
        "  \n",
        "  return model, history"
      ],
      "metadata": {
        "id": "7A1VfoNjMem1"
      },
      "execution_count": 36,
      "outputs": []
    },
    {
      "cell_type": "code",
      "source": [
        "model, history = LSTM_create_and_fit_model(X_train,y_train, X_test, y_test)"
      ],
      "metadata": {
        "colab": {
          "base_uri": "https://localhost:8080/"
        },
        "id": "fW44Kg9lMfu7",
        "outputId": "41c9185f-8d38-4b6f-efe9-8708f9354efd"
      },
      "execution_count": 37,
      "outputs": [
        {
          "output_type": "stream",
          "name": "stdout",
          "text": [
            "Model: \"sequential\"\n",
            "_________________________________________________________________\n",
            " Layer (type)                Output Shape              Param #   \n",
            "=================================================================\n",
            " lstm (LSTM)                 (None, 50)                14200     \n",
            "                                                                 \n",
            " dropout (Dropout)           (None, 50)                0         \n",
            "                                                                 \n",
            " dense (Dense)               (None, 1)                 51        \n",
            "                                                                 \n",
            "=================================================================\n",
            "Total params: 14,251\n",
            "Trainable params: 14,251\n",
            "Non-trainable params: 0\n",
            "_________________________________________________________________\n",
            "Epoch 1/100\n",
            "111/127 [=========================>....] - ETA: 0s - loss: 4.1191e-04\n",
            "Epoch 1: val_loss improved from inf to 0.01178, saving model to mymodel.h5\n",
            "127/127 [==============================] - 3s 6ms/step - loss: 0.0011 - val_loss: 0.0118\n",
            "Epoch 2/100\n",
            "119/127 [===========================>..] - ETA: 0s - loss: 0.0010\n",
            "Epoch 2: val_loss improved from 0.01178 to 0.01019, saving model to mymodel.h5\n",
            "127/127 [==============================] - 1s 4ms/step - loss: 0.0015 - val_loss: 0.0102\n",
            "Epoch 3/100\n",
            "127/127 [==============================] - ETA: 0s - loss: 8.2088e-04\n",
            "Epoch 3: val_loss improved from 0.01019 to 0.00933, saving model to mymodel.h5\n",
            "127/127 [==============================] - 1s 4ms/step - loss: 8.2088e-04 - val_loss: 0.0093\n",
            "Epoch 4/100\n",
            "124/127 [============================>.] - ETA: 0s - loss: 9.2063e-04\n",
            "Epoch 4: val_loss improved from 0.00933 to 0.00838, saving model to mymodel.h5\n",
            "127/127 [==============================] - 1s 4ms/step - loss: 0.0013 - val_loss: 0.0084\n",
            "Epoch 5/100\n",
            "118/127 [==========================>...] - ETA: 0s - loss: 0.0011\n",
            "Epoch 5: val_loss improved from 0.00838 to 0.00678, saving model to mymodel.h5\n",
            "127/127 [==============================] - 0s 4ms/step - loss: 0.0024 - val_loss: 0.0068\n",
            "Epoch 6/100\n",
            "120/127 [===========================>..] - ETA: 0s - loss: 0.0019\n",
            "Epoch 6: val_loss did not improve from 0.00678\n",
            "127/127 [==============================] - 0s 4ms/step - loss: 0.0028 - val_loss: 0.0097\n",
            "Epoch 7/100\n",
            "127/127 [==============================] - ETA: 0s - loss: 0.0029\n",
            "Epoch 7: val_loss did not improve from 0.00678\n",
            "127/127 [==============================] - 1s 4ms/step - loss: 0.0029 - val_loss: 0.0082\n",
            "Epoch 8/100\n",
            "123/127 [============================>.] - ETA: 0s - loss: 0.0022\n",
            "Epoch 8: val_loss did not improve from 0.00678\n",
            "127/127 [==============================] - 0s 4ms/step - loss: 0.0025 - val_loss: 0.0086\n",
            "Epoch 8: early stopping\n"
          ]
        }
      ]
    },
    {
      "cell_type": "code",
      "source": [
        "def LSTM_model_evaluate(model):\n",
        "  loss = model.evaluate(X_test, y_test, batch_size=20)\n",
        "  print(\"Test Loss: %.2f\" % (100 * loss))\n",
        "  plt.figure(figsize=(10,5))\n",
        "  plt.plot(history.history[\"loss\"], color=\"r\", label=\"Training Loss\")\n",
        "  plt.plot(history.history[\"val_loss\"], color=\"b\", label=\"Validation Loss\")\n",
        "  plt.legend(loc=\"upper right\")\n",
        "  plt.xlabel(\"Epoch\", fontsize=16)\n",
        "  plt.ylabel(\"Loss\", fontsize=16)\n",
        "  plt.ylim([0, max(plt.ylim())])\n",
        "  plt.title(\"Training and Validation Loss\", fontsize=16);"
      ],
      "metadata": {
        "id": "InKevUBkMlE1"
      },
      "execution_count": 38,
      "outputs": []
    },
    {
      "cell_type": "code",
      "source": [
        "LSTM_model_evaluate(model)"
      ],
      "metadata": {
        "colab": {
          "base_uri": "https://localhost:8080/",
          "height": 392
        },
        "id": "p-MBow5KMr1s",
        "outputId": "fc741da1-c01f-45ae-86df-977d45d09552"
      },
      "execution_count": 39,
      "outputs": [
        {
          "output_type": "stream",
          "name": "stdout",
          "text": [
            "31/31 [==============================] - 0s 2ms/step - loss: 0.0086\n",
            "Test Loss: 0.86\n"
          ]
        },
        {
          "output_type": "display_data",
          "data": {
            "text/plain": [
              "<Figure size 720x360 with 1 Axes>"
            ],
            "image/png": "[encoded data removed]"
          },
          "metadata": {
            "needs_background": "light"
          }
        }
      ]
    },
    {
      "cell_type": "code",
      "source": [
        "def show_prediction(model, dataframe, X_train, X_test, y_train, y_test, lookback=20, plot=True):\n",
        "  train_predict = model.predict(X_train)\n",
        "  test_predict = model.predict(X_test)\n",
        "  train_predict = scaler_train.inverse_transform(train_predict)\n",
        "  test_predict = scaler_test.inverse_transform(test_predict) \n",
        "  y_train = scaler_train.inverse_transform(y_train)\n",
        "  y_test = scaler_test.inverse_transform(y_test)\n",
        "  RMSE_train = np.sqrt(mean_squared_error(y_train, train_predict))\n",
        "  RMSE_test = np.sqrt(mean_squared_error(y_test, test_predict))\n",
        "  print(\"--------------------- Loss ---------------------------\")\n",
        "  print(\"RMSE Train: \", RMSE_train, \"\\nRMSE Test: \", RMSE_test)\n",
        "\n",
        "  train_prediction_df = dataframe[lookback:position]\n",
        "  train_prediction_df[\"Predicted\"] = train_predict\n",
        "  print(\"------------------------ Train Predictoion Head ----------------------------\")\n",
        "  print(train_prediction_df.head())\n",
        "\n",
        "  test_prediction_df = dataframe[position+lookback:]\n",
        "  test_prediction_df[\"Predicted\"] = test_predict\n",
        "  print(\"------------------------- Test Predictoion Head ---------------------------\")\n",
        "  print(test_prediction_df.head())\n",
        "\n",
        "  if plot:\n",
        "    plt.figure(figsize=(14,5))\n",
        "    plt.plot(dataframe, label=\"Real Number of Passengers\")\n",
        "    plt.plot(train_prediction_df[\"Predicted\"], color=\"blue\", label=\"Train Predicted Stock Price\")\n",
        "    plt.plot(test_prediction_df[\"Predicted\"], color=\"red\", label=\"Test Predicted Stock Price\")\n",
        "    plt.title(\"Tesla Stock Price Prediction\")\n",
        "    plt.xlabel(\"Time\")\n",
        "    plt.ylabel(\"Stock Price\")\n",
        "    plt.legend()\n",
        "    plt.show()"
      ],
      "metadata": {
        "id": "_1hw_TAuNEJX"
      },
      "execution_count": 40,
      "outputs": []
    },
    {
      "cell_type": "code",
      "source": [
        "show_prediction(model, result_df, X_train, X_test, y_train, y_test)"
      ],
      "metadata": {
        "colab": {
          "base_uri": "https://localhost:8080/",
          "height": 714
        },
        "id": "sCKjP2BxNR4L",
        "outputId": "ef37c899-ac2f-4f42-f98a-df1372a37e13"
      },
      "execution_count": 41,
      "outputs": [
        {
          "output_type": "stream",
          "name": "stdout",
          "text": [
            "80/80 [==============================] - 0s 2ms/step\n",
            "20/20 [==============================] - 0s 2ms/step\n",
            "--------------------- Loss ---------------------------\n",
            "RMSE Train:  3.0012188 \n",
            "RMSE Test:  27.948938\n",
            "------------------------ Train Predictoion Head ----------------------------\n",
            "               Close  Predicted\n",
            "Date                           \n",
            "2010-07-28  1.381333   4.199066\n",
            "2010-07-29  1.356667   4.199066\n",
            "2010-07-30  1.329333   4.199066\n",
            "2010-08-02  1.394667   4.199066\n",
            "2010-08-03  1.463333   4.199066\n",
            "------------------------- Test Predictoion Head ---------------------------\n",
            "                 Close   Predicted\n",
            "Date                              \n",
            "2020-09-18  147.383331  136.471283\n",
            "2020-09-21  149.796661  136.502563\n",
            "2020-09-22  141.410004  135.976608\n",
            "2020-09-23  126.786667  137.326843\n",
            "2020-09-24  129.263336  135.476166\n"
          ]
        },
        {
          "output_type": "display_data",
          "data": {
            "text/plain": [
              "<Figure size 1008x360 with 1 Axes>"
            ],
            "image/png": "[encoded data removed]"
          },
          "metadata": {
            "needs_background": "light"
          }
        }
      ]
    }
  ]
}