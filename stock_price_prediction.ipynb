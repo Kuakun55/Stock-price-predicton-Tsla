{
  "nbformat": 4,
  "nbformat_minor": 0,
  "metadata": {
    "colab": {
      "provenance": [],
      "authorship_tag": "ABX9TyOqVfog8042L7IogubG8/UU",
      "include_colab_link": true
    },
    "kernelspec": {
      "name": "python3",
      "display_name": "Python 3"
    },
    "language_info": {
      "name": "python"
    }
  },
  "cells": [
    {
      "cell_type": "markdown",
      "metadata": {
        "id": "view-in-github",
        "colab_type": "text"
      },
      "source": [
        "<a href=\"https://colab.research.google.com/github/Kuakun55/Stock-price-predicton-Tsla/blob/main/stock_price_prediction.ipynb\" target=\"_parent\"><img src=\"https://colab.research.google.com/assets/colab-badge.svg\" alt=\"Open In Colab\"/></a>"
      ]
    },
    {
      "cell_type": "code",
      "source": [
        "!pip install yfinance"
      ],
      "metadata": {
        "colab": {
          "base_uri": "https://localhost:8080/"
        },
        "id": "3bmocMMb2cvr",
        "outputId": "d1df4068-f205-4750-df91-3d25b526f8d3"
      },
      "execution_count": null,
      "outputs": [
        {
          "output_type": "stream",
          "name": "stdout",
          "text": [
            "Looking in indexes: https://pypi.org/simple, https://us-python.pkg.dev/colab-wheels/public/simple/\n",
            "Requirement already satisfied: yfinance in /usr/local/lib/python3.8/dist-packages (0.2.12)\n",
            "Requirement already satisfied: requests>=2.26 in /usr/local/lib/python3.8/dist-packages (from yfinance) (2.28.2)\n",
            "Requirement already satisfied: cryptography>=3.3.2 in /usr/local/lib/python3.8/dist-packages (from yfinance) (39.0.2)\n",
            "Requirement already satisfied: lxml>=4.9.1 in /usr/local/lib/python3.8/dist-packages (from yfinance) (4.9.2)\n",
            "Requirement already satisfied: numpy>=1.16.5 in /usr/local/lib/python3.8/dist-packages (from yfinance) (1.22.4)\n",
            "Requirement already satisfied: multitasking>=0.0.7 in /usr/local/lib/python3.8/dist-packages (from yfinance) (0.0.11)\n",
            "Requirement already satisfied: frozendict>=2.3.4 in /usr/local/lib/python3.8/dist-packages (from yfinance) (2.3.5)\n",
            "Requirement already satisfied: beautifulsoup4>=4.11.1 in /usr/local/lib/python3.8/dist-packages (from yfinance) (4.11.2)\n",
            "Requirement already satisfied: pandas>=1.3.0 in /usr/local/lib/python3.8/dist-packages (from yfinance) (1.3.5)\n",
            "Requirement already satisfied: html5lib>=1.1 in /usr/local/lib/python3.8/dist-packages (from yfinance) (1.1)\n",
            "Requirement already satisfied: pytz>=2022.5 in /usr/local/lib/python3.8/dist-packages (from yfinance) (2022.7.1)\n",
            "Requirement already satisfied: appdirs>=1.4.4 in /usr/local/lib/python3.8/dist-packages (from yfinance) (1.4.4)\n",
            "Requirement already satisfied: soupsieve>1.2 in /usr/local/lib/python3.8/dist-packages (from beautifulsoup4>=4.11.1->yfinance) (2.4)\n",
            "Requirement already satisfied: cffi>=1.12 in /usr/local/lib/python3.8/dist-packages (from cryptography>=3.3.2->yfinance) (1.15.1)\n",
            "Requirement already satisfied: webencodings in /usr/local/lib/python3.8/dist-packages (from html5lib>=1.1->yfinance) (0.5.1)\n",
            "Requirement already satisfied: six>=1.9 in /usr/local/lib/python3.8/dist-packages (from html5lib>=1.1->yfinance) (1.15.0)\n",
            "Requirement already satisfied: python-dateutil>=2.7.3 in /usr/local/lib/python3.8/dist-packages (from pandas>=1.3.0->yfinance) (2.8.2)\n",
            "Requirement already satisfied: idna<4,>=2.5 in /usr/local/lib/python3.8/dist-packages (from requests>=2.26->yfinance) (2.10)\n",
            "Requirement already satisfied: certifi>=2017.4.17 in /usr/local/lib/python3.8/dist-packages (from requests>=2.26->yfinance) (2022.12.7)\n",
            "Requirement already satisfied: urllib3<1.27,>=1.21.1 in /usr/local/lib/python3.8/dist-packages (from requests>=2.26->yfinance) (1.26.14)\n",
            "Requirement already satisfied: charset-normalizer<4,>=2 in /usr/local/lib/python3.8/dist-packages (from requests>=2.26->yfinance) (3.0.1)\n",
            "Requirement already satisfied: pycparser in /usr/local/lib/python3.8/dist-packages (from cffi>=1.12->cryptography>=3.3.2->yfinance) (2.21)\n"
          ]
        }
      ]
    },
    {
      "cell_type": "code",
      "source": [
        "import pandas as pd\n",
        "import numpy as np\n",
        "import matplotlib.pyplot as plt\n",
        "from sklearn.preprocessing import MinMaxScaler\n",
        "from tensorflow.keras.models import Sequential\n",
        "from tensorflow.keras.layers import Dense, LSTM, Dropout\n",
        "import yfinance as yf"
      ],
      "metadata": {
        "id": "gK_twCw3JlHK"
      },
      "execution_count": null,
      "outputs": []
    },
    {
      "cell_type": "code",
      "source": [
        "# ตั้งค่าวันเริ่มต้นและวันสิ้นสุดในการดึงข้อมูล\n",
        "start_date = \"2010-06-29\"\n",
        "end_date = \"2020-02-03\""
      ],
      "metadata": {
        "id": "ZYL57cPEJ1U-"
      },
      "execution_count": null,
      "outputs": []
    },
    {
      "cell_type": "code",
      "source": [
        "# ดึงข้อมูลราคาหุ้น\n",
        "tsla_data = yf.download(\"MSFT\", start=start_date, end=end_date)"
      ],
      "metadata": {
        "colab": {
          "base_uri": "https://localhost:8080/"
        },
        "id": "iH8NOkVuJ5SU",
        "outputId": "d526e089-c55e-4a82-dfde-965aacd02894"
      },
      "execution_count": null,
      "outputs": [
        {
          "output_type": "stream",
          "name": "stdout",
          "text": [
            "\r[*********************100%***********************]  1 of 1 completed\n"
          ]
        }
      ]
    },
    {
      "cell_type": "code",
      "source": [
        "# แสดงตารางข้อมูล\n",
        "print(tsla_data.head())"
      ],
      "metadata": {
        "colab": {
          "base_uri": "https://localhost:8080/"
        },
        "id": "xgfFyrLDJ6vF",
        "outputId": "eb2e6fd3-9ac5-40d1-a72c-b9dabe200aa9"
      },
      "execution_count": null,
      "outputs": [
        {
          "output_type": "stream",
          "name": "stdout",
          "text": [
            "                 Open       High        Low      Close  Adj Close     Volume\n",
            "Date                                                                        \n",
            "2010-06-29  24.129999  24.200001  23.110001  23.309999  17.956203  119882100\n",
            "2010-06-30  23.299999  23.680000  22.950001  23.010000  17.725107   81050500\n",
            "2010-07-01  23.090000  23.320000  22.730000  23.160000  17.840656   92239400\n",
            "2010-07-02  23.360001  23.480000  23.049999  23.270000  17.925398   62485100\n",
            "2010-07-06  23.700001  24.090000  23.580000  23.820000  18.349073   73592000\n"
          ]
        }
      ]
    },
    {
      "cell_type": "code",
      "source": [
        "plt.figure(figsize=(12, 4))\n",
        "plt.plot(tsla_data['Close'])\n",
        "plt.title('Tesla Stock Price - 1 Year')\n",
        "plt.xlabel('Date')\n",
        "plt.ylabel('Close Price ($)')\n",
        "plt.show()"
      ],
      "metadata": {
        "colab": {
          "base_uri": "https://localhost:8080/",
          "height": 295
        },
        "id": "FNwKu9UFJ_cF",
        "outputId": "17cd731e-571e-4a99-b3da-d53016a2c494"
      },
      "execution_count": null,
      "outputs": [
        {
          "output_type": "display_data",
          "data": {
            "text/plain": [
              "<Figure size 864x288 with 1 Axes>"
            ],
            "image/png": "[encoded data removed]"
          },
          "metadata": {
            "needs_background": "light"
          }
        }
      ]
    },
    {
      "cell_type": "code",
      "source": [
        "data = tsla_data.filter(['Close']).values"
      ],
      "metadata": {
        "id": "zwLTWzwvKCdZ"
      },
      "execution_count": null,
      "outputs": []
    },
    {
      "cell_type": "code",
      "source": [
        "# แบ่งข้อมูลเป็น train set และ test set\n",
        "training_data_len = int(np.ceil(len(data) * 0.8))\n",
        "test_data_len = len(data) - training_data_len\n",
        "train_data = data[0:training_data_len,:]\n",
        "test_data = data[training_data_len:len(data),:]\n",
        "\n",
        "scaler = MinMaxScaler(feature_range=(0,1))\n",
        "train_data_scaled = scaler.fit_transform(train_data)\n",
        "\n",
        "def create_dataset(data, time_step=1):\n",
        "    X, Y = [], []\n",
        "    for i in range(len(data)-time_step):\n",
        "        X.append(data[i:(i+time_step), 0])\n",
        "        Y.append(data[i+time_step, 0])\n",
        "    return np.array(X), np.array(Y)\n",
        "\n",
        "time_step = 60\n",
        "X_train, Y_train = create_dataset(train_data_scaled, time_step)\n",
        "X_train = np.reshape(X_train, (X_train.shape[0], X_train.shape[1], 1))"
      ],
      "metadata": {
        "id": "0ySou3hPKFz5"
      },
      "execution_count": null,
      "outputs": []
    },
    {
      "cell_type": "code",
      "source": [
        "# สร้างโมเดล LSTM\n",
        "model = Sequential()\n",
        "model.add(LSTM(50, return_sequences=True, input_shape=(X_train.shape[1], 1)))\n",
        "model.add(LSTM(50, return_sequences=False))\n",
        "model.add(Dense(25))\n",
        "model.add(Dense(1))"
      ],
      "metadata": {
        "id": "lao7h0h5KNpa"
      },
      "execution_count": null,
      "outputs": []
    },
    {
      "cell_type": "code",
      "source": [
        "# Compile และ Train โมเดล\n",
        "model.compile(optimizer='adam', loss='mean_squared_error')\n",
        "model.fit(X_train, Y_train, epochs=50, batch_size=32)\n",
        "\n",
        "last_60_days = tsla_data['Close'][-60:].values\n",
        "last_60_days_scaled = scaler.transform(last_60_days.reshape(-1, 1))\n",
        "\n",
        "X_test = []\n",
        "X_test.append(last_60_days_scaled)\n",
        "X_test = np.array(X_test)\n",
        "X_test = np.reshape(X_test, (X_test.shape[0], X_test.shape[1], 1))\n",
        "\n",
        "pred_price = model"
      ],
      "metadata": {
        "colab": {
          "base_uri": "https://localhost:8080/"
        },
        "id": "21OLq9ToKRyA",
        "outputId": "6b8f6310-3ef5-4f24-8783-7356eb861149"
      },
      "execution_count": null,
      "outputs": [
        {
          "output_type": "stream",
          "name": "stdout",
          "text": [
            "Epoch 1/50\n",
            "59/59 [==============================] - 17s 135ms/step - loss: 8.5101e-04\n",
            "Epoch 2/50\n",
            "59/59 [==============================] - 8s 128ms/step - loss: 3.2647e-04\n",
            "Epoch 3/50\n",
            "59/59 [==============================] - 6s 104ms/step - loss: 3.0302e-04\n",
            "Epoch 4/50\n",
            "59/59 [==============================] - 5s 87ms/step - loss: 3.4575e-04\n",
            "Epoch 5/50\n",
            "59/59 [==============================] - 6s 107ms/step - loss: 2.9762e-04\n",
            "Epoch 6/50\n",
            "59/59 [==============================] - 5s 85ms/step - loss: 2.6744e-04\n",
            "Epoch 7/50\n",
            "59/59 [==============================] - 6s 103ms/step - loss: 2.5203e-04\n",
            "Epoch 8/50\n",
            "59/59 [==============================] - 5s 83ms/step - loss: 2.5170e-04\n",
            "Epoch 9/50\n",
            "59/59 [==============================] - 5s 86ms/step - loss: 2.2882e-04\n",
            "Epoch 10/50\n",
            "59/59 [==============================] - 6s 100ms/step - loss: 1.9870e-04\n",
            "Epoch 11/50\n",
            "59/59 [==============================] - 5s 85ms/step - loss: 1.9785e-04\n",
            "Epoch 12/50\n",
            "59/59 [==============================] - 6s 106ms/step - loss: 1.7459e-04\n",
            "Epoch 13/50\n",
            "59/59 [==============================] - 5s 85ms/step - loss: 2.0692e-04\n",
            "Epoch 14/50\n",
            "59/59 [==============================] - 6s 105ms/step - loss: 1.8691e-04\n",
            "Epoch 15/50\n",
            "59/59 [==============================] - 5s 90ms/step - loss: 1.5496e-04\n",
            "Epoch 16/50\n",
            "59/59 [==============================] - 5s 89ms/step - loss: 1.5462e-04\n",
            "Epoch 17/50\n",
            "59/59 [==============================] - 6s 101ms/step - loss: 1.6302e-04\n",
            "Epoch 18/50\n",
            "59/59 [==============================] - 5s 90ms/step - loss: 1.3863e-04\n",
            "Epoch 19/50\n",
            "59/59 [==============================] - 7s 113ms/step - loss: 1.3292e-04\n",
            "Epoch 20/50\n",
            "59/59 [==============================] - 5s 86ms/step - loss: 1.2188e-04\n",
            "Epoch 21/50\n",
            "59/59 [==============================] - 7s 123ms/step - loss: 1.2458e-04\n",
            "Epoch 22/50\n",
            "59/59 [==============================] - 6s 93ms/step - loss: 1.3750e-04\n",
            "Epoch 23/50\n",
            "59/59 [==============================] - 6s 107ms/step - loss: 1.1064e-04\n",
            "Epoch 24/50\n",
            "59/59 [==============================] - 5s 90ms/step - loss: 1.3110e-04\n",
            "Epoch 25/50\n",
            "59/59 [==============================] - 6s 98ms/step - loss: 1.9017e-04\n",
            "Epoch 26/50\n",
            "59/59 [==============================] - 6s 101ms/step - loss: 1.4925e-04\n",
            "Epoch 27/50\n",
            "59/59 [==============================] - 5s 87ms/step - loss: 1.2587e-04\n",
            "Epoch 28/50\n",
            "59/59 [==============================] - 6s 106ms/step - loss: 1.0904e-04\n",
            "Epoch 29/50\n",
            "59/59 [==============================] - 5s 86ms/step - loss: 1.0527e-04\n",
            "Epoch 30/50\n",
            "59/59 [==============================] - 6s 105ms/step - loss: 9.9421e-05\n",
            "Epoch 31/50\n",
            "59/59 [==============================] - 5s 89ms/step - loss: 1.0498e-04\n",
            "Epoch 32/50\n",
            "59/59 [==============================] - 6s 100ms/step - loss: 9.4652e-05\n",
            "Epoch 33/50\n",
            "59/59 [==============================] - 5s 92ms/step - loss: 1.0544e-04\n",
            "Epoch 34/50\n",
            "59/59 [==============================] - 5s 93ms/step - loss: 1.2629e-04\n",
            "Epoch 35/50\n",
            "59/59 [==============================] - 6s 106ms/step - loss: 1.2786e-04\n",
            "Epoch 36/50\n",
            "59/59 [==============================] - 6s 99ms/step - loss: 1.0664e-04\n",
            "Epoch 37/50\n",
            "59/59 [==============================] - 6s 106ms/step - loss: 9.7264e-05\n",
            "Epoch 38/50\n",
            "59/59 [==============================] - 5s 91ms/step - loss: 1.0844e-04\n",
            "Epoch 39/50\n",
            "59/59 [==============================] - 6s 107ms/step - loss: 1.0590e-04\n",
            "Epoch 40/50\n",
            "59/59 [==============================] - 5s 89ms/step - loss: 1.0646e-04\n",
            "Epoch 41/50\n",
            "59/59 [==============================] - 6s 108ms/step - loss: 1.5371e-04\n",
            "Epoch 42/50\n",
            "59/59 [==============================] - 5s 92ms/step - loss: 1.1263e-04\n",
            "Epoch 43/50\n",
            "59/59 [==============================] - 6s 102ms/step - loss: 8.8804e-05\n",
            "Epoch 44/50\n",
            "59/59 [==============================] - 5s 91ms/step - loss: 8.9807e-05\n",
            "Epoch 45/50\n",
            "59/59 [==============================] - 5s 88ms/step - loss: 9.5230e-05\n",
            "Epoch 46/50\n",
            "59/59 [==============================] - 6s 107ms/step - loss: 9.1055e-05\n",
            "Epoch 47/50\n",
            "59/59 [==============================] - 5s 89ms/step - loss: 9.7341e-05\n",
            "Epoch 48/50\n",
            "59/59 [==============================] - 6s 105ms/step - loss: 9.2378e-05\n",
            "Epoch 49/50\n",
            "59/59 [==============================] - 5s 88ms/step - loss: 1.0494e-04\n",
            "Epoch 50/50\n",
            "59/59 [==============================] - 6s 109ms/step - loss: 9.6003e-05\n"
          ]
        }
      ]
    },
    {
      "cell_type": "code",
      "source": [
        "test_data_plot = np.empty_like(data)\n",
        "test_data_plot[:, :] = np.nan\n",
        "test_data_plot[len(data) - test_data_len:len(data), :] = test_data\n"
      ],
      "metadata": {
        "id": "zD7z-gA0KTmz"
      },
      "execution_count": null,
      "outputs": []
    },
    {
      "cell_type": "code",
      "source": [
        "plt.figure(figsize=(12, 4))\n",
        "plt.plot(data, label='Actual Price')\n",
        "plt.plot(test_data_plot, label='Test Data')\n",
        "# Get the predicted price using the model\n",
        "pred_price = model.predict(test_data)\n",
        "\n",
        "# Plot the predicted price\n",
        "plt.plot(len(data) - 1, pred_price[0, 0], 'bo', label='Predicted Price')\n",
        "\n",
        "plt.title('Tesla Stock Price - Test')\n",
        "plt.xlabel('Date')\n",
        "plt.ylabel('Close Price ($)')\n",
        "plt.legend()\n",
        "plt.show()"
      ],
      "metadata": {
        "colab": {
          "base_uri": "https://localhost:8080/",
          "height": 350
        },
        "id": "O7u98wUnK2f8",
        "outputId": "ba02abc7-f223-46a8-9487-c6f5b16d7987"
      },
      "execution_count": null,
      "outputs": [
        {
          "output_type": "stream",
          "name": "stderr",
          "text": [
            "WARNING:tensorflow:Model was constructed with shape (None, 60, 1) for input KerasTensor(type_spec=TensorSpec(shape=(None, 60, 1), dtype=tf.float32, name='lstm_20_input'), name='lstm_20_input', description=\"created by layer 'lstm_20_input'\"), but it was called on an input with incompatible shape (None, 1, 1).\n"
          ]
        },
        {
          "output_type": "stream",
          "name": "stdout",
          "text": [
            "16/16 [==============================] - 1s 4ms/step\n"
          ]
        },
        {
          "output_type": "display_data",
          "data": {
            "text/plain": [
              "<Figure size 864x288 with 1 Axes>"
            ],
            "image/png": "[encoded data removed]"
          },
          "metadata": {
            "needs_background": "light"
          }
        }
      ]
    },
    {
      "cell_type": "code",
      "source": [
        "from sklearn.metrics import mean_absolute_error, mean_squared_error\n",
        "mae = mean_absolute_error(test_data, pred_price)\n",
        "rmse = np.sqrt(mean_squared_error(test_data, pred_price))\n",
        "\n",
        "print('MAE:', mae)\n",
        "print('RMSE:', rmse)"
      ],
      "metadata": {
        "colab": {
          "base_uri": "https://localhost:8080/"
        },
        "id": "mQvClT1hKlPz",
        "outputId": "457511c7-477e-4635-dacf-119eba29efd1"
      },
      "execution_count": null,
      "outputs": [
        {
          "output_type": "stream",
          "name": "stdout",
          "text": [
            "MAE: 116.22966207826113\n",
            "RMSE: 117.94924977473478\n"
          ]
        }
      ]
    },
    {
      "cell_type": "code",
      "source": [
        "pred_price = scaler.inverse_transform(pred_price.reshape(-1, 1))\n",
        "test_data = scaler.inverse_transform(test_data.reshape(-1, 1))"
      ],
      "metadata": {
        "id": "aqAgUMzLKXTA"
      },
      "execution_count": null,
      "outputs": []
    },
    {
      "cell_type": "code",
      "source": [
        "pred_price = model.predict(X_test)\n",
        "pred_test = scaler.inverse_transform(pred_price)\n",
        "mae_perc = np.mean(np.abs(pred_test - test_data)/test_data)*100\n",
        "rmse_perc = np.sqrt(np.mean(np.power((pred_test - test_data),2)/test_data))*100\n",
        "\n",
        "print(\"MAEperc: {:.2f}%\".format(mae_perc))\n",
        "print(\"RMSEperc: {:.2f}%\".format(rmse_perc))\n"
      ],
      "metadata": {
        "colab": {
          "base_uri": "https://localhost:8080/"
        },
        "id": "d8q0_I-XPj1k",
        "outputId": "c305f598-c688-45ba-9542-061fd8db352c"
      },
      "execution_count": null,
      "outputs": [
        {
          "output_type": "stream",
          "name": "stdout",
          "text": [
            "1/1 [==============================] - 0s 42ms/step\n",
            "MAEperc: 98.06%\n",
            "RMSEperc: 9156.22%\n"
          ]
        }
      ]
    }
  ]
}